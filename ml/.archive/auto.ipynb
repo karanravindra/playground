{
 "cells": [
  {
   "cell_type": "code",
   "execution_count": 3,
   "metadata": {},
   "outputs": [],
   "source": [
    "import torch\n",
    "import torch.nn as nn\n",
    "import torch.nn.functional as F\n",
    "import matplotlib.pyplot as plt\n",
    "import tqdm as tqdm\n",
    "import torchvision\n",
    "from torchvision import transforms\n",
    "from ml_zoo import MNISTDataModuleConfig, MNISTDataModule\n",
    "\n",
    "# Create DataModule\n",
    "dm_config = MNISTDataModuleConfig(\n",
    "    data_dir=\"data\",\n",
    "    batch_size=64,\n",
    "    num_workers=4,\n",
    "    pin_memory=True,\n",
    "    persistent_workers=True,\n",
    "    transforms=[transforms.Resize((32, 32)), transforms.ToTensor()],\n",
    "    use_qmnist=True,\n",
    ")\n",
    "\n",
    "dm = MNISTDataModule(dm_config)\n",
    "dm.prepare_data()\n",
    "dm.setup()\n",
    "train_loader = dm.train_dataloader()\n",
    "val_loader = dm.val_dataloader()"
   ]
  },
  {
   "cell_type": "code",
   "execution_count": 4,
   "metadata": {},
   "outputs": [],
   "source": [
    "# Save first batch of images\n",
    "images, labels = next(iter(val_loader))\n",
    "path = \"blog/2-mnist/imgs/\"\n",
    "for i in range(len(images)):\n",
    "    torchvision.utils.save_image(images[i], path + f\"img_{i}.png\")"
   ]
  },
  {
   "cell_type": "code",
   "execution_count": null,
   "metadata": {},
   "outputs": [],
   "source": [
    "class SparseAutoencoder(nn.Module):\n",
    "    def __init__(self, latent):\n",
    "        super(SparseAutoencoder, self).__init__()\n",
    "        self.encoder = nn.Sequential(\n",
    "            nn.Linear(32*32, 1024),\n",
    "            nn.ReLU(),\n",
    "            nn.Linear(1024, 2048),\n",
    "            nn.ReLU(),\n",
    "            nn.Linear(2048, latent),\n",
    "            nn.ReLU()\n",
    "        )\n",
    "        self.decoder = nn.Sequential(\n",
    "            nn.Linear(latent, 2048),\n",
    "            nn.ReLU(),\n",
    "            nn.Linear(2048, 1024),\n",
    "            nn.ReLU(),\n",
    "            nn.Linear(1024, 32*32),\n",
    "            nn.Sigmoid()\n",
    "        )\n",
    "\n",
    "    def forward(self, x):\n",
    "        latent = self.encoder(x)\n",
    "        decoded = self.decoder(latent)\n",
    "        return decoded, latent\n",
    "\n",
    "\n",
    "model = SparseAutoencoder(latent=4096)\n",
    "optimizer = torch.optim.AdamW(model.parameters(), lr=2e-4)"
   ]
  },
  {
   "cell_type": "code",
   "execution_count": null,
   "metadata": {},
   "outputs": [],
   "source": [
    "def criterion(x_hat, x, latent):\n",
    "    return F.mse_loss(x_hat, x) + latent.abs().mean() * 1e-3\n",
    "\n",
    "@torch.no_grad()\n",
    "def eval():\n",
    "    model.eval()\n",
    "    pbar = tqdm.tqdm(val_loader, desc=\"Val\")\n",
    "    val_loss = 0\n",
    "    for batch in pbar:\n",
    "        x, _ = batch\n",
    "        x = x.view(x.size(0), -1)\n",
    "        x_hat, enc = model(x)\n",
    "        loss = criterion(x_hat, x, enc).item()\n",
    "        val_loss += loss\n",
    "        pbar.set_postfix({\"loss\": loss})\n",
    "\n",
    "    return val_loss / len(val_loader)"
   ]
  },
  {
   "cell_type": "code",
   "execution_count": null,
   "metadata": {},
   "outputs": [],
   "source": [
    "# Training\n",
    "val_loss = eval()\n",
    "for epoch in range(10):\n",
    "    model.train()\n",
    "    pbar = tqdm.tqdm(train_loader, desc=f\"Epoch {epoch}\")\n",
    "    for batch in pbar:\n",
    "        x, _ = batch\n",
    "        x = x.view(x.size(0), -1)\n",
    "        optimizer.zero_grad()\n",
    "        x_hat, enc = model(x)\n",
    "        loss = criterion(x_hat, x, enc)\n",
    "        loss.backward()\n",
    "        optimizer.step()\n",
    "        pbar.set_postfix({\"loss\": loss.item(), \"val_loss\": val_loss})\n",
    "\n",
    "    val_loss = eval()"
   ]
  },
  {
   "cell_type": "code",
   "execution_count": null,
   "metadata": {},
   "outputs": [],
   "source": [
    "x, y = next(iter(val_loader))\n",
    "x = x.view(x.size(0), -1)\n",
    "\n",
    "x_hat, _ = model(x)\n",
    "\n",
    "fig, ax = plt.subplots(2, 5, figsize=(20, 8))\n",
    "for i in range(5):\n",
    "    ax[0, i].imshow(x[i].view(32, 32).numpy())\n",
    "    ax[1, i].imshow(x_hat[i].view(32, 32).detach().numpy())\n",
    "\n",
    "plt.show()"
   ]
  },
  {
   "cell_type": "code",
   "execution_count": null,
   "metadata": {},
   "outputs": [],
   "source": [
    "# Extract latent space\n",
    "model.eval()\n",
    "latents = []\n",
    "class_labels = []\n",
    "for batch in val_loader:\n",
    "    x, y = batch\n",
    "    x = x.view(x.size(0), -1)\n",
    "    _, enc = model(x)\n",
    "    latents.append(enc)\n",
    "    class_labels.append(y)\n",
    "\n",
    "latents = torch.cat(latents, dim=0).detach()\n",
    "class_labels = torch.cat(class_labels, dim=0)"
   ]
  },
  {
   "cell_type": "code",
   "execution_count": null,
   "metadata": {},
   "outputs": [],
   "source": [
    "latents.flatten().mean().item(), latents.flatten().std().item()"
   ]
  },
  {
   "cell_type": "code",
   "execution_count": null,
   "metadata": {},
   "outputs": [],
   "source": [
    "latent[0]"
   ]
  },
  {
   "cell_type": "code",
   "execution_count": null,
   "metadata": {},
   "outputs": [],
   "source": [
    "# PCA\n",
    "from sklearn.decomposition import PCA\n",
    "import plotly.express as px\n",
    "\n",
    "pca = PCA(n_components=3)\n",
    "pca_latents = pca.fit_transform(latents)\n",
    "\n",
    "fig = px.scatter_3d(\n",
    "    x=pca_latents[:, 0],\n",
    "    y=pca_latents[:, 1],\n",
    "    z=pca_latents[:, 2],\n",
    "    # z=class_labels,\n",
    "    color=class_labels,\n",
    "    labels={\"color\": \"Class\"},\n",
    ")\n",
    "fig.show()"
   ]
  },
  {
   "cell_type": "code",
   "execution_count": null,
   "metadata": {},
   "outputs": [],
   "source": []
  }
 ],
 "metadata": {
  "kernelspec": {
   "display_name": ".venv",
   "language": "python",
   "name": "python3"
  },
  "language_info": {
   "codemirror_mode": {
    "name": "ipython",
    "version": 3
   },
   "file_extension": ".py",
   "mimetype": "text/x-python",
   "name": "python",
   "nbconvert_exporter": "python",
   "pygments_lexer": "ipython3",
   "version": "3.10.14"
  }
 },
 "nbformat": 4,
 "nbformat_minor": 2
}

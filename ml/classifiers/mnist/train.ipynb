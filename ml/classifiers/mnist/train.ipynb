{
 "cells": [
  {
   "cell_type": "code",
   "execution_count": null,
   "metadata": {},
   "outputs": [],
   "source": [
    "import torch\n",
    "from torch import nn\n",
    "from torch.nn import functional as F\n",
    "import torchvision\n",
    "from torchinfo import summary\n",
    "from tqdm import tqdm\n",
    "from nn_zoo.datamodules import MNISTDataModule\n",
    "from nn_zoo.models.components import DepthwiseSeparableConv2d\n",
    "import matplotlib.pyplot as plt"
   ]
  },
  {
   "cell_type": "code",
   "execution_count": null,
   "metadata": {},
   "outputs": [],
   "source": [
    "dm = MNISTDataModule(\n",
    "        data_dir=\"../../../data\",\n",
    "        dataset_params={\n",
    "            \"download\": True,\n",
    "            \"transform\": torchvision.transforms.Compose(\n",
    "                [\n",
    "                    torchvision.transforms.Resize((32, 32)),\n",
    "                    torchvision.transforms.ToTensor(),\n",
    "                    torchvision.transforms.RandomRotation(30),\n",
    "                ]\n",
    "            ),\n",
    "        },\n",
    "        loader_params={\n",
    "            \"batch_size\": 128\n",
    "        },\n",
    "        qmnist=True\n",
    "    )\n",
    "\n",
    "dm.setup()\n",
    "\n",
    "train_loader = dm.train_dataloader()\n",
    "val_loader = dm.val_dataloader()"
   ]
  },
  {
   "cell_type": "code",
   "execution_count": null,
   "metadata": {},
   "outputs": [],
   "source": [
    "x, y = next(iter(val_loader))\n",
    "\n",
    "plt.figure(figsize=(20, 5))\n",
    "plt.imshow(torchvision.utils.make_grid(x, 32).permute(1, 2, 0))\n",
    "plt.title(\"Images\")\n",
    "plt.axis(\"off\")\n",
    "plt.show()"
   ]
  },
  {
   "cell_type": "code",
   "execution_count": null,
   "metadata": {},
   "outputs": [],
   "source": [
    "class LPIPS(nn.Module):\n",
    "    def __init__(self):\n",
    "        super(LPIPS, self).__init__()\n",
    "        self.conv1 = DepthwiseSeparableConv2d(1, 4, 3, 2, 1)\n",
    "        self.conv2 = DepthwiseSeparableConv2d(4, 8, 3, 2, 1)\n",
    "        self.conv3 = DepthwiseSeparableConv2d(8, 16, 3, 2, 1)\n",
    "        self.conv4 = DepthwiseSeparableConv2d(16, 32, 3, 2, 1)\n",
    "        self.conv5 = DepthwiseSeparableConv2d(32, 64, 3, 2, 1)\n",
    "\n",
    "        self.fc1 = nn.Linear(64, 10)\n",
    "\n",
    "        # self.load_state_dict(torch.load(\"model.pth\"))\n",
    "\n",
    "    def forward(self, x, lpips=False):\n",
    "        x1 = F.relu(self.conv1(x))\n",
    "        x2 = F.relu(self.conv2(x1))\n",
    "        x3 = F.relu(self.conv3(x2))\n",
    "        x4 = F.relu(self.conv4(x3))\n",
    "        x5 = F.relu(self.conv5(x4))\n",
    "\n",
    "        x5 = x5.view(x5.size(0), -1)\n",
    "\n",
    "        x = self.fc1(x5)\n",
    "\n",
    "        if lpips:\n",
    "            return x, x1, x2, x3, x4\n",
    "        \n",
    "        return x\n",
    "        \n",
    "    @torch.no_grad()\n",
    "    @torch.jit.export\n",
    "    def lpips(self, img1, img2, linear=False):\n",
    "        # Forward pass with lpips=True to get feature maps\n",
    "        features1 = self.forward(img1, lpips=True)\n",
    "        features2 = self.forward(img2, lpips=True)\n",
    "\n",
    "        # Calculate the LPIPS score\n",
    "        if linear:\n",
    "            scores = list(map(lambda x, y: F.mse_loss(x, y), features1, features2))\n",
    "        else:\n",
    "            scores = list(map(lambda x, y: F.mse_loss(x, y), features1[3:], features2[3:]))\n",
    "\n",
    "        # Sum the distances to get the LPIPS score\n",
    "        lpips_score = sum(scores)\n",
    "\n",
    "        return lpips_score\n",
    "    \n",
    "model = Model()\n",
    "model = model.to(\"mps\")\n",
    "print(summary(model, input_size=(1, 1, 32, 32), device=\"mps\", depth=1))"
   ]
  },
  {
   "cell_type": "code",
   "execution_count": null,
   "metadata": {},
   "outputs": [],
   "source": [
    "from ema_pytorch import EMA\n",
    "\n",
    "ema = EMA(model, beta=0.999, update_after_step=100, update_every=10)\n",
    "optimizer = torch.optim.Adam(model.parameters(), lr=1e-3)"
   ]
  },
  {
   "cell_type": "code",
   "execution_count": null,
   "metadata": {},
   "outputs": [],
   "source": [
    "@torch.no_grad()\n",
    "def eval(model, loader):\n",
    "    model.eval()\n",
    "    correct = 0\n",
    "    total = 0\n",
    "    loss = 0\n",
    "    for x, y in loader:\n",
    "        x, y = x.to(\"mps\"), y.to(\"mps\")\n",
    "        y_hat = model(x)\n",
    "        pred = y_hat.argmax(dim=1, keepdim=True)\n",
    "        correct += pred.eq(y.view_as(pred)).sum().item()\n",
    "        total += len(x)\n",
    "        loss += F.cross_entropy(y_hat, y).item()\n",
    "    return correct / total, loss / len(loader)"
   ]
  },
  {
   "cell_type": "code",
   "execution_count": null,
   "metadata": {},
   "outputs": [],
   "source": [
    "if 'roll_loss' not in locals():\n",
    "    roll_loss = 0\n",
    "\n",
    "for epoch in range(10):\n",
    "    model.train()\n",
    "    val_acc, val_loss = eval(model, val_loader)\n",
    "    lpips = model.lpips(torch.randn(2048, 1, 32, 32, device=\"mps\"), torch.randn(2048, 1, 32, 32, device=\"mps\")).item()\n",
    "    \n",
    "    pbar = tqdm(train_loader, desc=f\"Epoch {epoch}\", ncols=150)\n",
    "    for x, y in pbar:\n",
    "        x, y = x.to(\"mps\"), y.to(\"mps\")\n",
    "        optimizer.zero_grad()\n",
    "        y_hat = model(x)\n",
    "        loss = F.cross_entropy(y_hat, y)\n",
    "        loss.backward()\n",
    "        optimizer.step()\n",
    "\n",
    "        ema.update()\n",
    "\n",
    "        roll_loss = 0.99 * roll_loss + 0.01 * loss.item()\n",
    "        pbar.set_postfix_str(f\"loss: {roll_loss:.4f}, val_loss: {val_loss:.4f}, val_acc: {val_acc:.2%}, lpips: {lpips:.4f}\")\n",
    "    "
   ]
  },
  {
   "cell_type": "code",
   "execution_count": null,
   "metadata": {},
   "outputs": [],
   "source": [
    "torch.save(model.state_dict(), \"model1.pth\")"
   ]
  },
  {
   "cell_type": "code",
   "execution_count": null,
   "metadata": {},
   "outputs": [],
   "source": [
    "# plot the distribution of weights for each layer\n",
    "plt.subplot()"
   ]
  }
 ],
 "metadata": {
  "kernelspec": {
   "display_name": ".venv",
   "language": "python",
   "name": "python3"
  },
  "language_info": {
   "codemirror_mode": {
    "name": "ipython",
    "version": 3
   },
   "file_extension": ".py",
   "mimetype": "text/x-python",
   "name": "python",
   "nbconvert_exporter": "python",
   "pygments_lexer": "ipython3",
   "version": "3.11.9"
  }
 },
 "nbformat": 4,
 "nbformat_minor": 2
}

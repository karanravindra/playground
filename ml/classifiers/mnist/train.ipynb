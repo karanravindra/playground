{
 "cells": [
  {
   "cell_type": "code",
   "execution_count": null,
   "metadata": {},
   "outputs": [],
   "source": [
    "import torch\n",
    "from torch import nn\n",
    "from torch.nn import functional as F\n",
    "import torchvision\n",
    "from torchinfo import summary\n",
    "from tqdm import tqdm\n",
    "from nn_zoo.datamodules import MNISTDataModule\n",
    "from nn_zoo.models.components import *\n",
    "import matplotlib.pyplot as plt"
   ]
  },
  {
   "cell_type": "code",
   "execution_count": null,
   "metadata": {},
   "outputs": [],
   "source": [
    "dm = MNISTDataModule(\n",
    "        data_dir=\"../../../data\",\n",
    "        dataset_params={\n",
    "            \"download\": True,\n",
    "            \"transform\": torchvision.transforms.Compose(\n",
    "                [\n",
    "                    torchvision.transforms.Resize((32, 32)),\n",
    "                    torchvision.transforms.ToTensor(),\n",
    "                    torchvision.transforms.RandomRotation(30),\n",
    "                ]\n",
    "            ),\n",
    "        },\n",
    "        loader_params={\n",
    "            \"batch_size\": 128\n",
    "        },\n",
    "    )\n",
    "\n",
    "dm.setup()\n",
    "\n",
    "train_loader = dm.train_dataloader()\n",
    "val_loader = dm.val_dataloader()"
   ]
  },
  {
   "cell_type": "code",
   "execution_count": null,
   "metadata": {},
   "outputs": [],
   "source": [
    "x, y = next(iter(val_loader))\n",
    "\n",
    "plt.imshow(torchvision.utils.make_grid(x).permute(1, 2, 0))\n",
    "plt.title(\"Images\")\n",
    "plt.axis(\"off\")\n",
    "plt.show()"
   ]
  },
  {
   "cell_type": "code",
   "execution_count": null,
   "metadata": {},
   "outputs": [],
   "source": [
    "class Model(nn.Module):\n",
    "    def __init__(self):\n",
    "        super(Model, self).__init__()\n",
    "        self.conv1 = DepthwiseSeparableConv2d(1, 6, 3, 1, 1)\n",
    "        self.conv2 = DepthwiseSeparableConv2d(6, 16, 3, 1, 1)\n",
    "\n",
    "        self.fc = nn.Sequential(\n",
    "            nn.Linear(16 * 8 * 8, 10),\n",
    "        )\n",
    "\n",
    "        self.load_state_dict(torch.load(\"model2.pth\"))\n",
    "\n",
    "    def forward(self, x, lpips=False):\n",
    "        x1 = F.max_pool2d(F.relu(self.conv1(x)), 2)\n",
    "        x2 = F.max_pool2d(F.relu(self.conv2(x1)), 2)\n",
    "\n",
    "        x2 = x2.view(x2.size(0), -1)\n",
    "        x = self.fc(x2)\n",
    "\n",
    "        if lpips:\n",
    "            return x, x1, x2\n",
    "\n",
    "        return x\n",
    "    \n",
    "    def lpips(self, img1, img2):\n",
    "        # Forward pass with lpips=True to get feature maps\n",
    "        _, x1_features1, x2_features1 = self.forward(img1, lpips=True)\n",
    "        _, x1_features2, x2_features2 = self.forward(img2, lpips=True)\n",
    "\n",
    "        # Compute L2 distances between corresponding feature maps\n",
    "        dist1 = F.mse_loss(x1_features1, x1_features2)\n",
    "        dist2 = F.mse_loss(x2_features1, x2_features2)\n",
    "\n",
    "        # Sum the distances to get the LPIPS score\n",
    "        lpips_score = dist1 + dist2\n",
    "\n",
    "        return lpips_score\n",
    "    \n",
    "model = Model()\n",
    "model = model.to(\"mps\")\n",
    "print(summary(model, input_size=(1, 1, 32, 32), device=\"mps\", depth=1))"
   ]
  },
  {
   "cell_type": "code",
   "execution_count": null,
   "metadata": {},
   "outputs": [],
   "source": [
    "from ema_pytorch import EMA\n",
    "\n",
    "ema = EMA(model, beta=0.999, update_after_step=2000, update_every=10)\n",
    "optimizer = torch.optim.AdamW(model.parameters(), lr=4e-4)"
   ]
  },
  {
   "cell_type": "code",
   "execution_count": null,
   "metadata": {},
   "outputs": [],
   "source": [
    "@torch.no_grad()\n",
    "def eval(model, loader):\n",
    "    model.eval()\n",
    "    correct = 0\n",
    "    total = 0\n",
    "    loss = 0\n",
    "    for x, y in loader:\n",
    "        x, y = x.to(\"mps\"), y.to(\"mps\")\n",
    "        y_hat = model(x)\n",
    "        pred = y_hat.argmax(dim=1, keepdim=True)\n",
    "        correct += pred.eq(y.view_as(pred)).sum().item()\n",
    "        total += len(x)\n",
    "        loss += F.cross_entropy(y_hat, y).item()\n",
    "    return correct / total, loss / len(loader)\n",
    "\n",
    "roll_loss = 0\n",
    "for epoch in range(200):\n",
    "    model.train()\n",
    "    val_acc, val_loss = eval(model, val_loader)\n",
    "    lpips = model.lpips(torch.ones(4, 1, 32, 32).to(\"mps\"), torch.zeros(4, 1, 32, 32).to(\"mps\")).item()\n",
    "    \n",
    "    pbar = tqdm(train_loader, desc=f\"Epoch {epoch}\", ncols=150)\n",
    "    for x, y in pbar:\n",
    "        x, y = x.to(\"mps\"), y.to(\"mps\")\n",
    "        optimizer.zero_grad()\n",
    "        y_hat = model(x)\n",
    "        loss = F.cross_entropy(y_hat, y)\n",
    "        loss.backward()\n",
    "        optimizer.step()\n",
    "\n",
    "        ema.update()\n",
    "\n",
    "        roll_loss = 0.99 * roll_loss + 0.01 * loss.item()\n",
    "        pbar.set_postfix_str(f\"loss: {roll_loss:.4f}, val_loss: {val_loss:.4f}, val_acc: {val_acc:.2%}, lpips: {lpips:.4f}\")\n",
    "    "
   ]
  },
  {
   "cell_type": "code",
   "execution_count": null,
   "metadata": {},
   "outputs": [],
   "source": [
    "torch.save(model.state_dict(), \"model2.pth\")"
   ]
  },
  {
   "cell_type": "code",
   "execution_count": null,
   "metadata": {},
   "outputs": [],
   "source": [
    "# plot the distribution of weights for each layer\n",
    "plt.subplot()"
   ]
  }
 ],
 "metadata": {
  "kernelspec": {
   "display_name": ".venv",
   "language": "python",
   "name": "python3"
  },
  "language_info": {
   "codemirror_mode": {
    "name": "ipython",
    "version": 3
   },
   "file_extension": ".py",
   "mimetype": "text/x-python",
   "name": "python",
   "nbconvert_exporter": "python",
   "pygments_lexer": "ipython3",
   "version": "3.11.9"
  }
 },
 "nbformat": 4,
 "nbformat_minor": 2
}

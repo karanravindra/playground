{
 "cells": [
  {
   "cell_type": "code",
   "execution_count": 2,
   "metadata": {},
   "outputs": [
    {
     "name": "stdout",
     "output_type": "stream",
     "text": [
      "Collecting d3blocks\n",
      "  Downloading d3blocks-1.4.11-py3-none-any.whl.metadata (8.9 kB)\n",
      "Requirement already satisfied: numpy in /Users/karan/projects/playground/.venv/lib/python3.11/site-packages (from d3blocks) (1.26.4)\n",
      "Collecting colourmap>=1.1.10 (from d3blocks)\n",
      "  Downloading colourmap-1.1.17-py3-none-any.whl.metadata (4.1 kB)\n",
      "Collecting datazets>=0.1.7 (from d3blocks)\n",
      "  Downloading datazets-0.1.9-py3-none-any.whl.metadata (4.7 kB)\n",
      "Collecting d3graph>=2.4.16 (from d3blocks)\n",
      "  Downloading d3graph-2.5.0-py3-none-any.whl.metadata (6.5 kB)\n",
      "Collecting elasticgraph>=0.1.2 (from d3blocks)\n",
      "  Downloading elasticgraph-0.2.0-py3-none-any.whl.metadata (2.1 kB)\n",
      "Collecting ismember>=1.0.1 (from d3blocks)\n",
      "  Downloading ismember-1.0.5-py3-none-any.whl.metadata (3.4 kB)\n",
      "Requirement already satisfied: pandas in /Users/karan/projects/playground/.venv/lib/python3.11/site-packages (from d3blocks) (2.2.2)\n",
      "Requirement already satisfied: tqdm in /Users/karan/projects/playground/.venv/lib/python3.11/site-packages (from d3blocks) (4.66.4)\n",
      "Requirement already satisfied: requests in /Users/karan/projects/playground/.venv/lib/python3.11/site-packages (from d3blocks) (2.32.3)\n",
      "Requirement already satisfied: scikit-learn in /Users/karan/projects/playground/.venv/lib/python3.11/site-packages (from d3blocks) (1.5.1)\n",
      "Requirement already satisfied: jinja2 in /Users/karan/projects/playground/.venv/lib/python3.11/site-packages (from d3blocks) (3.1.4)\n",
      "Requirement already satisfied: matplotlib in /Users/karan/projects/playground/.venv/lib/python3.11/site-packages (from colourmap>=1.1.10->d3blocks) (3.9.1)\n",
      "Requirement already satisfied: networkx>2 in /Users/karan/projects/playground/.venv/lib/python3.11/site-packages (from d3graph>=2.4.16->d3blocks) (3.3)\n",
      "Requirement already satisfied: packaging in /Users/karan/projects/playground/.venv/lib/python3.11/site-packages (from d3graph>=2.4.16->d3blocks) (24.1)\n",
      "Collecting markupsafe==2.0.1 (from d3graph>=2.4.16->d3blocks)\n",
      "  Downloading MarkupSafe-2.0.1.tar.gz (18 kB)\n",
      "  Installing build dependencies ... \u001b[?25ldone\n",
      "\u001b[?25h  Getting requirements to build wheel ... \u001b[?25ldone\n",
      "\u001b[?25h  Preparing metadata (pyproject.toml) ... \u001b[?25ldone\n",
      "\u001b[?25hCollecting python-louvain (from d3graph>=2.4.16->d3blocks)\n",
      "  Downloading python-louvain-0.16.tar.gz (204 kB)\n",
      "\u001b[2K     \u001b[90m━━━━━━━━━━━━━━━━━━━━━━━━━━━━━━━━━━━━━━━\u001b[0m \u001b[32m204.6/204.6 kB\u001b[0m \u001b[31m4.1 MB/s\u001b[0m eta \u001b[36m0:00:00\u001b[0ma \u001b[36m0:00:01\u001b[0m\n",
      "\u001b[?25h  Installing build dependencies ... \u001b[?25ldone\n",
      "\u001b[?25h  Getting requirements to build wheel ... \u001b[?25ldone\n",
      "\u001b[?25h  Preparing metadata (pyproject.toml) ... \u001b[?25ldone\n",
      "\u001b[?25hRequirement already satisfied: python-dateutil>=2.8.2 in /Users/karan/projects/playground/.venv/lib/python3.11/site-packages (from pandas->d3blocks) (2.9.0.post0)\n",
      "Requirement already satisfied: pytz>=2020.1 in /Users/karan/projects/playground/.venv/lib/python3.11/site-packages (from pandas->d3blocks) (2024.1)\n",
      "Requirement already satisfied: tzdata>=2022.7 in /Users/karan/projects/playground/.venv/lib/python3.11/site-packages (from pandas->d3blocks) (2024.1)\n",
      "Requirement already satisfied: charset-normalizer<4,>=2 in /Users/karan/projects/playground/.venv/lib/python3.11/site-packages (from requests->d3blocks) (3.3.2)\n",
      "Requirement already satisfied: idna<4,>=2.5 in /Users/karan/projects/playground/.venv/lib/python3.11/site-packages (from requests->d3blocks) (3.7)\n",
      "Requirement already satisfied: urllib3<3,>=1.21.1 in /Users/karan/projects/playground/.venv/lib/python3.11/site-packages (from requests->d3blocks) (2.2.2)\n",
      "Requirement already satisfied: certifi>=2017.4.17 in /Users/karan/projects/playground/.venv/lib/python3.11/site-packages (from requests->d3blocks) (2024.7.4)\n",
      "Requirement already satisfied: scipy>=1.6.0 in /Users/karan/projects/playground/.venv/lib/python3.11/site-packages (from scikit-learn->d3blocks) (1.14.0)\n",
      "Requirement already satisfied: joblib>=1.2.0 in /Users/karan/projects/playground/.venv/lib/python3.11/site-packages (from scikit-learn->d3blocks) (1.4.2)\n",
      "Requirement already satisfied: threadpoolctl>=3.1.0 in /Users/karan/projects/playground/.venv/lib/python3.11/site-packages (from scikit-learn->d3blocks) (3.5.0)\n",
      "Requirement already satisfied: six>=1.5 in /Users/karan/projects/playground/.venv/lib/python3.11/site-packages (from python-dateutil>=2.8.2->pandas->d3blocks) (1.16.0)\n",
      "Requirement already satisfied: contourpy>=1.0.1 in /Users/karan/projects/playground/.venv/lib/python3.11/site-packages (from matplotlib->colourmap>=1.1.10->d3blocks) (1.2.1)\n",
      "Requirement already satisfied: cycler>=0.10 in /Users/karan/projects/playground/.venv/lib/python3.11/site-packages (from matplotlib->colourmap>=1.1.10->d3blocks) (0.12.1)\n",
      "Requirement already satisfied: fonttools>=4.22.0 in /Users/karan/projects/playground/.venv/lib/python3.11/site-packages (from matplotlib->colourmap>=1.1.10->d3blocks) (4.53.1)\n",
      "Requirement already satisfied: kiwisolver>=1.3.1 in /Users/karan/projects/playground/.venv/lib/python3.11/site-packages (from matplotlib->colourmap>=1.1.10->d3blocks) (1.4.5)\n",
      "Requirement already satisfied: pillow>=8 in /Users/karan/projects/playground/.venv/lib/python3.11/site-packages (from matplotlib->colourmap>=1.1.10->d3blocks) (10.4.0)\n",
      "Requirement already satisfied: pyparsing>=2.3.1 in /Users/karan/projects/playground/.venv/lib/python3.11/site-packages (from matplotlib->colourmap>=1.1.10->d3blocks) (3.1.2)\n",
      "Downloading d3blocks-1.4.11-py3-none-any.whl (1.4 MB)\n",
      "\u001b[2K   \u001b[90m━━━━━━━━━━━━━━━━━━━━━━━━━━━━━━━━━━━━━━━━\u001b[0m \u001b[32m1.4/1.4 MB\u001b[0m \u001b[31m3.7 MB/s\u001b[0m eta \u001b[36m0:00:00\u001b[0ma \u001b[36m0:00:01\u001b[0m\n",
      "\u001b[?25hDownloading colourmap-1.1.17-py3-none-any.whl (10 kB)\n",
      "Downloading d3graph-2.5.0-py3-none-any.whl (126 kB)\n",
      "\u001b[2K   \u001b[90m━━━━━━━━━━━━━━━━━━━━━━━━━━━━━━━━━━━━━━━━\u001b[0m \u001b[32m126.4/126.4 kB\u001b[0m \u001b[31m5.1 MB/s\u001b[0m eta \u001b[36m0:00:00\u001b[0m\n",
      "\u001b[?25hDownloading datazets-0.1.9-py3-none-any.whl (51 kB)\n",
      "\u001b[2K   \u001b[90m━━━━━━━━━━━━━━━━━━━━━━━━━━━━━━━━━━━━━━━━\u001b[0m \u001b[32m51.3/51.3 kB\u001b[0m \u001b[31m4.4 MB/s\u001b[0m eta \u001b[36m0:00:00\u001b[0m\n",
      "\u001b[?25hDownloading elasticgraph-0.2.0-py3-none-any.whl (82 kB)\n",
      "\u001b[2K   \u001b[90m━━━━━━━━━━━━━━━━━━━━━━━━━━━━━━━━━━━━━━━━\u001b[0m \u001b[32m82.8/82.8 kB\u001b[0m \u001b[31m3.0 MB/s\u001b[0m eta \u001b[36m0:00:00\u001b[0m\n",
      "\u001b[?25hDownloading ismember-1.0.5-py3-none-any.whl (7.7 kB)\n",
      "Building wheels for collected packages: markupsafe, python-louvain\n",
      "  Building wheel for markupsafe (pyproject.toml) ... \u001b[?25ldone\n",
      "\u001b[?25h  Created wheel for markupsafe: filename=MarkupSafe-2.0.1-cp311-cp311-macosx_15_0_arm64.whl size=14381 sha256=e62ab91444ac0dd2508fb2c1a14cc1e14fa1ad093aad11d49c614c558882e9bc\n",
      "  Stored in directory: /Users/karan/Library/Caches/pip/wheels/ea/18/79/6266ea508b8164a77b95aa19534c77eb805f2878612c37efca\n",
      "  Building wheel for python-louvain (pyproject.toml) ... \u001b[?25ldone\n",
      "\u001b[?25h  Created wheel for python-louvain: filename=python_louvain-0.16-py3-none-any.whl size=9388 sha256=6ea1f93905e241097828bdfeb929a52ce541e5f84cfcd0522aa07ab511413d64\n",
      "  Stored in directory: /Users/karan/Library/Caches/pip/wheels/11/c1/e7/f62a211c636275e2da798bf0c307a3ae79aeddaf2524a03ce4\n",
      "Successfully built markupsafe python-louvain\n",
      "Installing collected packages: python-louvain, markupsafe, ismember, datazets, colourmap, d3graph, elasticgraph, d3blocks\n",
      "  Attempting uninstall: markupsafe\n",
      "    Found existing installation: MarkupSafe 2.1.5\n",
      "    Uninstalling MarkupSafe-2.1.5:\n",
      "      Successfully uninstalled MarkupSafe-2.1.5\n",
      "Successfully installed colourmap-1.1.17 d3blocks-1.4.11 d3graph-2.5.0 datazets-0.1.9 elasticgraph-0.2.0 ismember-1.0.5 markupsafe-2.0.1 python-louvain-0.16\n",
      "\n",
      "\u001b[1m[\u001b[0m\u001b[34;49mnotice\u001b[0m\u001b[1;39;49m]\u001b[0m\u001b[39;49m A new release of pip is available: \u001b[0m\u001b[31;49m24.0\u001b[0m\u001b[39;49m -> \u001b[0m\u001b[32;49m24.1.2\u001b[0m\n",
      "\u001b[1m[\u001b[0m\u001b[34;49mnotice\u001b[0m\u001b[1;39;49m]\u001b[0m\u001b[39;49m To update, run: \u001b[0m\u001b[32;49mpip install --upgrade pip\u001b[0m\n",
      "Note: you may need to restart the kernel to use updated packages.\n"
     ]
    }
   ],
   "source": [
    "%pip install d3blocks"
   ]
  },
  {
   "cell_type": "code",
   "execution_count": 1,
   "metadata": {},
   "outputs": [
    {
     "ename": "ModuleNotFoundError",
     "evalue": "No module named 'd3py'",
     "output_type": "error",
     "traceback": [
      "\u001b[0;31m---------------------------------------------------------------------------\u001b[0m",
      "\u001b[0;31mModuleNotFoundError\u001b[0m                       Traceback (most recent call last)",
      "Cell \u001b[0;32mIn[1], line 1\u001b[0m\n\u001b[0;32m----> 1\u001b[0m \u001b[38;5;28;01mimport\u001b[39;00m \u001b[38;5;21;01md3py\u001b[39;00m\n\u001b[1;32m      2\u001b[0m \u001b[38;5;28;01mimport\u001b[39;00m \u001b[38;5;21;01mnetworkx\u001b[39;00m \u001b[38;5;28;01mas\u001b[39;00m \u001b[38;5;21;01mnx\u001b[39;00m\n\u001b[1;32m      4\u001b[0m \u001b[38;5;28;01mimport\u001b[39;00m \u001b[38;5;21;01mlogging\u001b[39;00m\n",
      "\u001b[0;31mModuleNotFoundError\u001b[0m: No module named 'd3py'"
     ]
    }
   ],
   "source": [
    "import d3py\n",
    "import networkx as nx\n",
    "\n",
    "import logging\n",
    "logging.basicConfig(level=logging.DEBUG)\n",
    "\n",
    "G = nx.Graph()\n",
    "G.add_edge(1,2)\n",
    "G.add_edge(1,3)\n",
    "G.add_edge(3,2)\n",
    "G.add_edge(3,4)\n",
    "G.add_edge(4,2)\n",
    "\n",
    "# use 'with' if you are writing a script and want to serve this up forever\n",
    "with d3py.NetworkXFigure(G, width=500, height=500) as p:\n",
    "    p += d3py.ForceLayout()\n",
    "    p.show()"
   ]
  },
  {
   "cell_type": "code",
   "execution_count": null,
   "metadata": {},
   "outputs": [],
   "source": [
    "easy_install https://github.com/mikedewar/d3py/tarball/master"
   ]
  }
 ],
 "metadata": {
  "kernelspec": {
   "display_name": ".venv",
   "language": "python",
   "name": "python3"
  },
  "language_info": {
   "codemirror_mode": {
    "name": "ipython",
    "version": 3
   },
   "file_extension": ".py",
   "mimetype": "text/x-python",
   "name": "python",
   "nbconvert_exporter": "python",
   "pygments_lexer": "ipython3",
   "version": "3.11.9"
  }
 },
 "nbformat": 4,
 "nbformat_minor": 2
}

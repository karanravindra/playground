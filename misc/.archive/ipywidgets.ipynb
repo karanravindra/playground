{
 "cells": [
  {
   "cell_type": "code",
   "execution_count": null,
   "metadata": {},
   "outputs": [],
   "source": [
    "import ipywidgets as widgets\n",
    "from IPython.display import display\n",
    "\n",
    "# Create a text input widget\n",
    "text_input = widgets.Text(\n",
    "    value='',\n",
    "    placeholder='Type something',\n",
    "    description='Input:',\n",
    "    disabled=False\n",
    ")\n",
    "\n",
    "# Display the text input widget\n",
    "display(text_input)\n",
    "\n",
    "# Function to handle text input changes\n",
    "def on_text_change(change):\n",
    "    print(f'Text changed to: {change[\"new\"]}')\n",
    "\n",
    "# Attach the function to the text input widget\n",
    "text_input.observe(on_text_change, names='value')\n"
   ]
  },
  {
   "cell_type": "code",
   "execution_count": null,
   "metadata": {},
   "outputs": [],
   "source": []
  }
 ],
 "metadata": {
  "language_info": {
   "name": "python"
  }
 },
 "nbformat": 4,
 "nbformat_minor": 2
}

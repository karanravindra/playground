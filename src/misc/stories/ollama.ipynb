{
 "cells": [
  {
   "cell_type": "code",
   "execution_count": 31,
   "metadata": {},
   "outputs": [
    {
     "data": {
      "text/markdown": [
       "## History of the United States\n",
       "\n",
       "The **History of the United States** spans from the arrival of the first humans on the continent thousands of years ago to the present day. It is a complex and multifaceted narrative encompassing diverse cultures, migrations, conflicts, industrialization, and social change. \n",
       "\n",
       "**Pre-colonial Era:**\n",
       "\n",
       "* Evidence suggests humans inhabited North America for at least 15,000 years, developing diverse societies and cultures across the continent. \n",
       "* The arrival of Europeans in the late 15th century marked a turning point, with European explorers and colonizers interacting with and impacting indigenous populations.\n",
       "\n",
       "**Colonial Era (1607-1763):**\n",
       "\n",
       "* European powers established colonies along the Atlantic coast, primarily driven by economic motives: seeking trade routes, resources, and new markets.\n",
       "* **Thirteen Colonies:** Diverse colonies emerged with varying economies (agriculture, fishing, fur trading), social structures, and political systems. Key colonies included Virginia, Massachusetts, Pennsylvania, and New York.\n",
       "* This period saw conflict with Native American tribes over land and resources, leading to numerous wars and displacement. \n",
       "\n",
       "**American Revolution (1775-1783):**\n",
       "\n",
       "* Growing tensions between Britain and its American colonies over taxation and representation culminated in the American Revolutionary War.\n",
       "* Key figures: **George Washington**, **Thomas Jefferson**, **Benjamin Franklin**.\n",
       "* The colonies declared independence in 1776 and, with the assistance of France, secured victory over the British, leading to the creation of the United States of America.\n",
       "\n",
       "**Early Republic (1783-1861):**\n",
       "\n",
       "* **Constitution:** The United States adopted the United States Constitution in 1787, establishing a federal republic with a balance of power between the executive, legislative, and judicial branches.\n",
       "* **Expansion:** The nation expanded westward, acquiring territory through purchase (Louisiana Purchase) and war (Mexican-American War).\n",
       "* **Internal Conflicts**: Slavery became a major social and political issue, leading to growing sectionalism between the North and the South. \n",
       "\n",
       "**Civil War (1861-1865):**\n",
       "\n",
       "* The long-simmering conflict over slavery erupted into war. The Southern states seceded to form the Confederate States of America.\n",
       "* **Abraham Lincoln**: President of the Union, led the North to victory. The war resulted in the abolition of slavery and the preservation of the Union.\n",
       "\n",
       "**Reconstruction and Industrialization (1865-1900):**\n",
       "\n",
       "* **Reconstruction:** The aftermath of the war saw efforts to rebuild the South and integrate former slaves into society.\n",
       "* **Industrial Revolution**: The nation experienced rapid industrial growth, urbanization, and technological advancements.\n",
       "\n",
       "**20th Century and Beyond (1900-Present):**\n",
       "\n",
       "* **Progressive Era**: Social and political reforms addressing problems like poverty, labor exploitation, and political corruption.\n",
       "* **World Wars**: The US played a crucial role in both World War I and World War II, emerging as a global superpower.\n",
       "* **Cold War**: Decades-long ideological and geopolitical struggle against the Soviet Union.\n",
       "* **Civil Rights Movement**: A sustained struggle for racial equality and an end to segregation.\n",
       "* **Technological Advancements**: The latter half of the 20th century saw unprecedented technological progress, including the development of the internet and personal computers.\n",
       "* **Globalization**: The US became increasingly interconnected with the world economy and faced new challenges related to international trade, migration, and terrorism.\n",
       "\n",
       "The history of the United States continues to evolve and shape the nation's identity, values, and role in the world.\n",
       "\n",
       "\n",
       "\n"
      ],
      "text/plain": [
       "<IPython.core.display.Markdown object>"
      ]
     },
     "metadata": {},
     "output_type": "display_data"
    },
    {
     "name": "stdout",
     "output_type": "stream",
     "text": [
      "Time taken: 1.8452239036560059 seconds\n"
     ]
    }
   ],
   "source": [
    "import time\n",
    "import os\n",
    "from IPython.display import display, Markdown\n",
    "from groq import Groq\n",
    "\n",
    "\n",
    "def save_generated_text(text, filename):\n",
    "    with open(filename, \"w\") as f:\n",
    "        f.write(text)\n",
    "\n",
    "\n",
    "client = Groq(\n",
    "    api_key=\"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\",\n",
    ")\n",
    "\n",
    "start_time = time.time()\n",
    "for i in range(1):\n",
    "    completion = client.chat.completions.create(\n",
    "        model=\"gemma2-9b-it\",\n",
    "        messages=[\n",
    "            {\n",
    "                \"role\": \"system\",\n",
    "                \"content\": \"Writing a compelling story using Markdown\",\n",
    "            },\n",
    "            {\n",
    "                \"role\": \"assistant\",\n",
    "                \"content\": \"Write a Wikipedia article about the history of the United States\",\n",
    "            },\n",
    "        ],\n",
    "        temperature=1,\n",
    "        max_tokens=8192,\n",
    "        top_p=1,\n",
    "        stream=False,\n",
    "        stop=None,\n",
    "    )\n",
    "\n",
    "    story = (completion.choices[0].message.content,)\n",
    "    display(Markdown(story[0]))\n",
    "    save_generated_text(story[0], f\"stories/story_{i}.md\")\n",
    "\n",
    "    end_time = time.time()\n",
    "    print(f\"Time taken: {end_time - start_time} seconds\")"
   ]
  },
  {
   "cell_type": "code",
   "execution_count": 16,
   "metadata": {},
   "outputs": [
    {
     "data": {
      "text/plain": [
       "'# The Last Librarian\\n\\nThe air hung thick with dust, each particle dancing in the single ray of sunlight piercing through the grimy window. Elara carefully brushed a layer of silt from a weathered leather-bound volume, its pages whispering secrets of a forgotten age. \\n\\nShe was the Last Librarian. \\n\\nThe Grand Library, once a towering monument to knowledge, now stood as a silent sentinel, its vast hallways echoing with the ghosts of countless stories.  A cataclysmic event, known only as The Great Cleansing, had swept across the land, wiping out most of civilization and leaving behind a shattered world. \\n\\nElara wasn\\'t sure how long she had been here, alone among the towering shelves. Time had lost its meaning, marked only by the slow decay of the building and the relentless march of the desert sands. She lived a solitary existence, her only companions the silent books, each holding a piece of the lost world.\\n\\nEach day was a ritual. Elara would rise with the sun, scavenging what scraps of food she could find. Then, she would descend into the Library’s depths, her fingers trailing along the spines of forgotten histories, fantastical tales, and forgotten philosophies. She devoured the knowledge within, clinging to it as a lifeline to a world that no longer existed.\\n\\nOne day, while exploring a section ravaged by time, Elara stumbled upon a tiny, unopened canister. Inside, she found a seed, its outer shell cracked but life pulsing within. It was a seed of the Whisperwood, a legendary forest said to hold ancient wisdom. Elara felt a surge of hope.\\n\\nCould this be a chance to rebuild, to start anew?\\n\\nShe planted the seed in a corner of the Library, tending to it with the utmost care. Days turned into weeks, then months. Slowly, a fragile seedling sprouted, reaching towards the sunlight filtering through the crumbling windows. \\n\\nElara nurtured the plant, watching it grow stronger with every passing day. It became her purpose, her hope for a future beyond the Library\\'s crumbling walls. \\n\\nThen, one morning, Elara heard a sound she hadn\\'t heard in what felt like forever: a human voice. She cautiously climbed the dusty stairs, heart pounding, to find a young woman  standing at the Library\\'s entrance.  \\n\\n\"Did you hear stories of the Last Librarian?\" the woman asked, her voice filled with awe.\\n\\nElara emerged from the shadows, her eyes meeting the woman\\'s.  In that moment, she knew that she wasn\\'t alone anymore.  The whisper of hope, carried on the wind from the growing Whisperwood, had found an echo in a new heart.  The books, waiting patiently on the shelves, held more stories waiting to be told.\\n\\n\\n'"
      ]
     },
     "execution_count": 16,
     "metadata": {},
     "output_type": "execute_result"
    }
   ],
   "source": []
  },
  {
   "cell_type": "code",
   "execution_count": null,
   "metadata": {},
   "outputs": [],
   "source": []
  }
 ],
 "metadata": {
  "kernelspec": {
   "display_name": ".venv",
   "language": "python",
   "name": "python3"
  },
  "language_info": {
   "codemirror_mode": {
    "name": "ipython",
    "version": 3
   },
   "file_extension": ".py",
   "mimetype": "text/x-python",
   "name": "python",
   "nbconvert_exporter": "python",
   "pygments_lexer": "ipython3",
   "version": "3.12.3"
  }
 },
 "nbformat": 4,
 "nbformat_minor": 2
}

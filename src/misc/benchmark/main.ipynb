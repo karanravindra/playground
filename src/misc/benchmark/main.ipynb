{
 "cells": [
  {
   "cell_type": "code",
   "execution_count": 1,
   "metadata": {},
   "outputs": [],
   "source": [
    "# importing the module\n",
    "import tracemalloc\n",
    "\n",
    "# # code or function for which memory\n",
    "# # has to be monitored\n",
    "# def app():\n",
    "#     lt = []\n",
    "#     for i in range(0, 100000):\n",
    "#         lt.append(i)\n",
    "\n",
    "# # starting the monitoring\n",
    "# tracemalloc.start()\n",
    "\n",
    "# # function call\n",
    "# app()\n",
    "\n",
    "# # displaying the memory\n",
    "# print(tracemalloc.get_traced_memory())\n",
    "\n",
    "# # stopping the library\n",
    "# tracemalloc.stop()"
   ]
  },
  {
   "cell_type": "code",
   "execution_count": 2,
   "metadata": {},
   "outputs": [
    {
     "name": "stdout",
     "output_type": "stream",
     "text": [
      "(1111, 18896)\n"
     ]
    }
   ],
   "source": [
    "tracemalloc.start()\n",
    "print(tracemalloc.get_traced_memory())\n",
    "# stopping the library\n",
    "tracemalloc.stop()"
   ]
  },
  {
   "cell_type": "code",
   "execution_count": null,
   "metadata": {},
   "outputs": [],
   "source": []
  }
 ],
 "metadata": {
  "kernelspec": {
   "display_name": ".venv",
   "language": "python",
   "name": "python3"
  },
  "language_info": {
   "codemirror_mode": {
    "name": "ipython",
    "version": 3
   },
   "file_extension": ".py",
   "mimetype": "text/x-python",
   "name": "python",
   "nbconvert_exporter": "python",
   "pygments_lexer": "ipython3",
   "version": "3.12.3"
  }
 },
 "nbformat": 4,
 "nbformat_minor": 2
}

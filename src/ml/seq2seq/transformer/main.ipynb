{
 "cells": [
  {
   "cell_type": "code",
   "execution_count": null,
   "metadata": {},
   "outputs": [],
   "source": [
    "with open(\"data/input.txt\", \"r\") as f:\n",
    "    data = f.read().lower()"
   ]
  },
  {
   "cell_type": "code",
   "execution_count": null,
   "metadata": {},
   "outputs": [],
   "source": [
    "from tokenizers import Tokenizer, models, decoders, trainers, tools, pre_tokenizers\n",
    "\n",
    "tokenizer = Tokenizer(models.BPE())\n",
    "tokenizer.pre_tokenizer = pre_tokenizers.ByteLevel()\n",
    "tokenizer.decoder = decoders.ByteLevel()\n",
    "trainer = trainers.BpeTrainer(vocab_size=8192)"
   ]
  },
  {
   "cell_type": "code",
   "execution_count": null,
   "metadata": {},
   "outputs": [],
   "source": [
    "tokenizer.train([\"data/input.txt\"], trainer=trainer)\n",
    "tokenizer.get_vocab_size()\n",
    "viz = tools.EncodingVisualizer(tokenizer)\n",
    "viz(data[:512])"
   ]
  },
  {
   "cell_type": "code",
   "execution_count": null,
   "metadata": {},
   "outputs": [],
   "source": [
    "# train val split\n",
    "import torch\n",
    "from torch.utils.data import Dataset, DataLoader\n",
    "\n",
    "class TextDataset(Dataset):\n",
    "    def __init__(self, data, tokenizer):\n",
    "        self.data = data\n",
    "        self.tokenizer = tokenizer\n",
    "\n",
    "    def __len__(self):\n",
    "        return len(self.data)\n",
    "\n",
    "    def __getitem__(self, idx) -> tuple[torch.Tensor, torch.Tensor]:\n",
    "        text = self.data[idx]\n",
    "        encoding = self.tokenizer.encode(text)\n",
    "        input_ids = torch.tensor(encoding.ids[:-1])\n",
    "        target_ids = torch.tensor(encoding.ids[1:])\n",
    "        return input_ids, target_ids\n",
    "        \n",
    "    \n",
    "train_val = 0.8\n",
    "train_data = data[:int(len(data)*train_val)]\n",
    "val_data = data[int(len(data)*train_val):]\n",
    "\n",
    "train_dataset = TextDataset(train_data, tokenizer)\n",
    "val_dataset = TextDataset(val_data, tokenizer)\n",
    "\n",
    "train_loader = DataLoader(train_dataset, batch_size=8, shuffle=True)\n",
    "val_loader = DataLoader(val_dataset, batch_size=8, shuffle=True)"
   ]
  },
  {
   "cell_type": "code",
   "execution_count": null,
   "metadata": {},
   "outputs": [],
   "source": [
    "from torch import nn\n",
    "from tqdm import tqdm\n",
    "from nn_zoo.models.components.attention import SelfAttention\n",
    "\n",
    "\n",
    "class Model(nn.Module):\n",
    "    def __init__(self, vocab_size, embed_size, hidden_size, num_layers):\n",
    "        super(Model, self).__init__()\n",
    "        self.positional_embedding = nn.Embedding(vocab_size, embed_size)\n",
    "        self.blocks = nn.Sequential(\n",
    "            *[SelfAttention(embed_size, hidden_size) for _ in range(num_layers)]\n",
    "        )\n",
    "        self.fc = nn.Linear(embed_size, vocab_size)\n",
    "\n",
    "    def forward(self, x):\n",
    "        x = self.positional_embedding(x)\n",
    "        x = self.blocks(x)\n",
    "        x = self.fc(x)\n",
    "        return x\n",
    "    \n",
    "model = Model(tokenizer.get_vocab_size(), 512, 512, 6)\n",
    "model = model.to(\"mps\")\n",
    "\n",
    "optimizer = torch.optim.Adam(model.parameters(), lr=1e-3)\n",
    "criterion = nn.CrossEntropyLoss()\n",
    "\n",
    "for epoch in range(10):\n",
    "    model.train()\n",
    "    for x, y in tqdm(train_loader):\n",
    "        optimizer.zero_grad()\n",
    "        x, y = x.long().to(\"mps\"), y.long().to(\"mps\")\n",
    "        y_hat = model(x)\n",
    "        loss = criterion(y_hat.view(-1, y_hat.size(-1)), y.view(-1))\n",
    "        loss.backward()\n",
    "        optimizer.step()\n",
    "        \n",
    "    model.eval()\n",
    "    with torch.no_grad():\n",
    "        total_loss = 0\n",
    "        for x, y in val_loader:\n",
    "            x, y = x.to(\"mps\"), y.to(\"mps\")\n",
    "            y_hat = model(x)\n",
    "            loss = criterion(y_hat.view(-1, y_hat.size(-1)), y.view(-1))\n",
    "            total_loss += loss.item()\n",
    "        print(f\"Epoch {epoch} Loss: {total_loss/len(val_loader)}\")\n",
    "        "
   ]
  },
  {
   "cell_type": "code",
   "execution_count": null,
   "metadata": {},
   "outputs": [],
   "source": []
  }
 ],
 "metadata": {
  "kernelspec": {
   "display_name": ".venv",
   "language": "python",
   "name": "python3"
  },
  "language_info": {
   "codemirror_mode": {
    "name": "ipython",
    "version": 3
   },
   "file_extension": ".py",
   "mimetype": "text/x-python",
   "name": "python",
   "nbconvert_exporter": "python",
   "pygments_lexer": "ipython3",
   "version": "3.12.3"
  }
 },
 "nbformat": 4,
 "nbformat_minor": 2
}

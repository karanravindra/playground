{
 "cells": [
  {
   "cell_type": "code",
   "execution_count": 1,
   "metadata": {},
   "outputs": [],
   "source": [
    "import matplotlib.pyplot as plt\n",
    "import os\n",
    "from transformers import AutoImageProcessor, AutoModel\n",
    "from PIL import Image\n",
    "import torch\n",
    "import os\n",
    "from qdrant_client import QdrantClient\n",
    "from qdrant_client import models\n",
    "# from qdrant_client.http import models\n",
    "import tqdm\n"
   ]
  },
  {
   "cell_type": "code",
   "execution_count": null,
   "metadata": {},
   "outputs": [],
   "source": [
    "# Preprocess data by renaming each file\n",
    "def preprocess_data(directory):\n",
    "    # Get all files in the directory\n",
    "    files = os.listdir(directory)\n",
    "    # Rename each file\n",
    "    for i, file in tqdm.tqdm(enumerate(files), total=len(files), desc=\"Preprocessing data\"):\n",
    "        # Get the extension of the file\n",
    "        extension = file.split('.')[-1]\n",
    "        # Rename the file\n",
    "        new_name = f\"{i}.{extension}\"\n",
    "        \n",
    "        # Rename the file\n",
    "        os.rename(f\"{directory}/{file}\", f\"{directory}/{new_name}\")\n",
    "        \n",
    "# Preprocess the data\n",
    "preprocess_data(\"data/Images\")\n"
   ]
  },
  {
   "cell_type": "code",
   "execution_count": 4,
   "metadata": {},
   "outputs": [
    {
     "name": "stderr",
     "output_type": "stream",
     "text": [
      "Indexing images: 100%|██████████| 8091/8091 [13:45<00:00,  9.81it/s]"
     ]
    },
    {
     "name": "stdout",
     "output_type": "stream",
     "text": [
      "Indexing complete\n"
     ]
    },
    {
     "name": "stderr",
     "output_type": "stream",
     "text": [
      "\n"
     ]
    }
   ],
   "source": [
    "def setup_qdrant():\n",
    "    client = QdrantClient(path=\"database/\")\n",
    "    client.create_collection(collection_name=\"images\",\n",
    "                               vectors_config=models.VectorParams(size=384, distance=models.Distance.COSINE, on_disk=True))\n",
    "    return client\n",
    "\n",
    "def index_images(directory, client, processor, model, device):\n",
    "    for filename in tqdm.tqdm(os.listdir(directory), desc=\"Indexing images\", total=len(os.listdir(directory))):\n",
    "        if filename.endswith((\".jpg\", \".png\")):\n",
    "            image_path = os.path.join(directory, filename)\n",
    "            image = Image.open(image_path)\n",
    "\n",
    "            with torch.no_grad():\n",
    "                inputs = processor(images=image, return_tensors=\"pt\").to(device)\n",
    "                outputs = model(**inputs)\n",
    "                features = outputs.last_hidden_state.mean(dim=1).cpu().numpy()  \n",
    "            \n",
    "            client.upsert(collection_name=\"images\", \n",
    "                          points = [\n",
    "                              models.PointStruct(\n",
    "                                    id=int(filename.split('.')[0]),\n",
    "                                    vector=features.flatten().tolist()\n",
    "                                )\n",
    "                          ])\n",
    "            \n",
    "            # move file to new directory\n",
    "            os.rename(image_path, f\"data/indexed/{filename}\")\n",
    "                          \n",
    "    print(\"Indexing complete\")\n",
    "\n",
    "# Setup\n",
    "device = torch.device('cuda' if torch.cuda.is_available() else \"cpu\")\n",
    "processor = AutoImageProcessor.from_pretrained('facebook/dinov2-small')\n",
    "model = AutoModel.from_pretrained('facebook/dinov2-small').to(device)\n",
    "model.eval()\n",
    "\n",
    "client = setup_qdrant()\n",
    "\n",
    "# Index images\n",
    "directory = 'data/indexed'\n",
    "index_images(directory, client, processor, model, device)\n"
   ]
  },
  {
   "cell_type": "code",
   "execution_count": 3,
   "metadata": {},
   "outputs": [
    {
     "name": "stdout",
     "output_type": "stream",
     "text": [
      "118 ms ± 25.3 ms per loop (mean ± std. dev. of 7 runs, 10 loops each)\n"
     ]
    }
   ],
   "source": [
    "with torch.no_grad():\n",
    "    %timeit model(processor(images=Image.open(\"data/indexed/0.jpg\"), return_tensors=\"pt\").to(device).pixel_values).last_hidden_state.mean(dim=1)\n"
   ]
  },
  {
   "cell_type": "code",
   "execution_count": null,
   "metadata": {},
   "outputs": [],
   "source": [
    "# test upload time\n",
    "c = QdrantClient(\":memory:\")\n",
    "c.create_collection(collection_name=\"images\",\n",
    "                               vectors_config=models.VectorParams(size=384, distance=models.Distance.COSINE, on_disk=True))\n",
    "\n",
    "%timeit c.upsert(collection_name=\"images\", points = [models.PointStruct(id=0, vector=[0]*384)])\n"
   ]
  },
  {
   "cell_type": "code",
   "execution_count": null,
   "metadata": {},
   "outputs": [],
   "source": [
    "def find_most_similar_image(client, reference_image_path, processor, model, device):\n",
    "    image_ref = Image.open(reference_image_path)\n",
    "    with torch.no_grad():\n",
    "        inputs_ref = processor(images=image_ref, return_tensors=\"pt\").to(device)\n",
    "        outputs_ref = model(**inputs_ref)\n",
    "        features_ref = outputs_ref.last_hidden_state.mean(dim=1).cpu().numpy()\n",
    "\n",
    "    # Perform the search\n",
    "    search_result = client.search(\n",
    "        collection_name=\"images\",\n",
    "        query_vector=features_ref.flatten().tolist(),\n",
    "        limit=5\n",
    "    )\n",
    "\n",
    "    return search_result\n",
    "\n",
    "\n",
    "# Find most similar image\n",
    "reference_image_path = 'data/indexed/15.jpg'\n",
    "result = find_most_similar_image(client, reference_image_path, processor, model, device)\n",
    "print(result)\n"
   ]
  },
  {
   "cell_type": "code",
   "execution_count": null,
   "metadata": {},
   "outputs": [],
   "source": [
    "# show reference image\n",
    "reference_image = Image.open(reference_image_path)\n",
    "plt.imshow(reference_image)\n"
   ]
  },
  {
   "cell_type": "code",
   "execution_count": null,
   "metadata": {},
   "outputs": [],
   "source": [
    "# Display the most similar images\n",
    "fig, axes = plt.subplots(1, 5, figsize=(20, 4))\n",
    "for i, point in enumerate(result):\n",
    "    image_path = os.path.join('data/indexed', f\"{point.id}.jpg\")\n",
    "    image = Image.open(image_path)\n",
    "    axes[i].imshow(image)\n",
    "    axes[i].axis('off')\n",
    "    \n",
    "    if i == 0:\n",
    "        axes[i].set_title(\"Reference Image\")\n",
    "    else:\n",
    "        axes[i].set_title(f\"Similar Image {i}\")\n",
    "        \n",
    "plt.show()\n"
   ]
  },
  {
   "cell_type": "code",
   "execution_count": null,
   "metadata": {},
   "outputs": [],
   "source": []
  }
 ],
 "metadata": {
  "kernelspec": {
   "display_name": "cloudspace",
   "language": "python",
   "name": "python3"
  },
  "language_info": {
   "codemirror_mode": {
    "name": "ipython",
    "version": 3
   },
   "file_extension": ".py",
   "mimetype": "text/x-python",
   "name": "python",
   "nbconvert_exporter": "python",
   "pygments_lexer": "ipython3",
   "version": "3.10.10"
  }
 },
 "nbformat": 4,
 "nbformat_minor": 2
}

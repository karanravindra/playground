{
 "cells": [
  {
   "cell_type": "markdown",
   "metadata": {},
   "source": [
    "# 1 - Classify Handwritten Numbers with QMNIST\n",
    "\n",
    "## Introduction\n",
    "When starting out with machine learning, and espesially computer vision, the MNIST dataset has been a longstanding benchmark for algorithms designed to recognize handwritten digits. Building upon this foundation, the QMNIST dataset offers a more robust, extension of the original MNIST dataset by providing 50,000 more testing images.\n",
    "\n",
    "### Understainging the QMNIST Dataset\n",
    "The QMNSIT dataset includes 60,000 training images and 60,000 testing images, each of size 28x28 pixels, labeled with corresponding digits from 0 to 9. Below you you can see some of the setup code for loading my datamodule and plotting some of the training images."
   ]
  },
  {
   "cell_type": "code",
   "execution_count": null,
   "metadata": {},
   "outputs": [],
   "source": [
    "import matplotlib.pyplot as plt\n",
    "import torchvision\n",
    "from torchvision import transforms\n",
    "from ml_zoo import MNISTDataModuleConfig, MNISTDataModule\n",
    "\n",
    "# Create DataModule\n",
    "dm_config = MNISTDataModuleConfig(\n",
    "    data_dir=\"data\",\n",
    "    batch_size=64,\n",
    "    num_workers=4,\n",
    "    pin_memory=True,\n",
    "    persistent_workers=True,\n",
    "    transforms=transforms.Compose([transforms.ToTensor()]),\n",
    "    use_qmnist=True,\n",
    ")\n",
    "\n",
    "dm = MNISTDataModule(dm_config)\n",
    "dm.prepare_data()\n",
    "dm.setup()\n",
    "train_loader = dm.train_dataloader()\n",
    "val_loader = dm.val_dataloader()\n",
    "test_loader = dm.test_dataloader() # Same as val_loader\n",
    "\n",
    "# Plot images 0-9\n",
    "plt.figure(figsize=(20, 2))\n",
    "imgs = []\n",
    "for i in range(10):\n",
    "    for x, y in train_loader:\n",
    "        if y[0] == i:\n",
    "            imgs.append(x[0])\n",
    "            break\n",
    "plt.imshow(torchvision.utils.make_grid(imgs, nrow=10).permute(1, 2, 0))\n",
    "plt.axis(\"off\")\n",
    "plt.show()"
   ]
  },
  {
   "cell_type": "markdown",
   "metadata": {},
   "source": [
    "The dataset contains mostly an even distribution of images per label."
   ]
  },
  {
   "cell_type": "code",
   "execution_count": null,
   "metadata": {},
   "outputs": [],
   "source": [
    "plt.figure(figsize=(20, 5))\n",
    "\n",
    "# Plot distribution of classes\n",
    "values = {k: 0 for k in range(10)}\n",
    "for x, y in train_loader:\n",
    "    for yi in y:\n",
    "        values[yi.item()] += 1\n",
    "\n",
    "plt.bar(values.keys(), values.values())\n",
    "plt.grid(axis=\"y\")\n",
    "plt.xlabel(\"Class\")\n",
    "plt.xticks(range(10))\n",
    "plt.ylabel(\"Count\")\n",
    "plt.title(\"Distribution of classes\")\n",
    "plt.show()"
   ]
  },
  {
   "cell_type": "markdown",
   "metadata": {},
   "source": [
    "### How are we going to classify these?\n",
    "From the previous post, based off the understanding that neural networks can learn non-linear relationships in data, we can treat each pixel in a generic 28x28 grid to contain a plot of the corresponding pixel value across all of the dataset"
   ]
  },
  {
   "cell_type": "code",
   "execution_count": null,
   "metadata": {},
   "outputs": [],
   "source": [
    "# Plot distribution of pixel values of middle pixel\n",
    "values = []\n",
    "for x, y in train_loader:\n",
    "    values.extend(x[:, :, 28//2, 28//2].flatten().tolist())\n",
    "\n",
    "plt.figure(figsize=(20, 5))\n",
    "plt.hist(values, bins=100)\n",
    "plt.xlabel(\"Pixel value\")\n",
    "plt.ylabel(\"Count\")\n",
    "plt.xlim(0, 1)\n",
    "plt.title(\"Distribution of pixel values of middle pixel\")\n",
    "plt.show()\n"
   ]
  },
  {
   "cell_type": "markdown",
   "metadata": {},
   "source": [
    "Looks pretty arbrtirary, to us humans, but a neural netowork is able to find patterns that will correspond to a specific class. Lets see how well we can do with a simple neural network."
   ]
  },
  {
   "cell_type": "markdown",
   "metadata": {},
   "source": [
    "### Lets Train a Neural Network"
   ]
  },
  {
   "cell_type": "markdown",
   "metadata": {},
   "source": []
  }
 ],
 "metadata": {
  "kernelspec": {
   "display_name": ".venv",
   "language": "python",
   "name": "python3"
  },
  "language_info": {
   "codemirror_mode": {
    "name": "ipython",
    "version": 3
   },
   "file_extension": ".py",
   "mimetype": "text/x-python",
   "name": "python",
   "nbconvert_exporter": "python",
   "pygments_lexer": "ipython3",
   "version": "3.10.14"
  }
 },
 "nbformat": 4,
 "nbformat_minor": 2
}

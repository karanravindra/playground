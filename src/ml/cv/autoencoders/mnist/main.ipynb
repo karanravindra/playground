{
 "cells": [
  {
   "cell_type": "code",
   "execution_count": 1,
   "metadata": {},
   "outputs": [],
   "source": [
    "import argparse\n",
    "\n",
    "import torch\n",
    "from torch import nn\n",
    "from torch.nn import functional as F\n",
    "import torchvision\n",
    "from ema_pytorch import EMA\n",
    "from torchinfo import summary\n",
    "from lightning import Trainer\n",
    "from lightning.pytorch.loggers import WandbLogger\n",
    "\n",
    "from nn_zoo.datamodules import MNISTDataModule\n",
    "from nn_zoo.models.components import ResidualStack, DepthwiseSeparableConv2d\n",
    "from nn_zoo.trainers import AutoEncoderTrainer"
   ]
  },
  {
   "cell_type": "code",
   "execution_count": 30,
   "metadata": {},
   "outputs": [],
   "source": [
    "dm = MNISTDataModule(\n",
    "        data_dir=\"data\",\n",
    "        dataset_params={\n",
    "            \"download\": True,\n",
    "            \"transform\": torchvision.transforms.Compose(\n",
    "                [\n",
    "                    torchvision.transforms.Resize((32, 32)),\n",
    "                    torchvision.transforms.ToTensor(),\n",
    "                ]\n",
    "            ),\n",
    "        },\n",
    "        loader_params={\n",
    "            \"batch_size\": 128,\n",
    "            \"num_workers\": 2,\n",
    "            \"persistent_workers\": True,\n",
    "            \"pin_memory\": True,\n",
    "        },\n",
    "    )\n",
    "\n",
    "dm.prepare_data()\n",
    "dm.setup()\n",
    "\n",
    "train_loader = dm.train_dataloader()\n",
    "test_loader = dm.test_dataloader()"
   ]
  },
  {
   "cell_type": "code",
   "execution_count": 43,
   "metadata": {},
   "outputs": [
    {
     "data": {
      "text/plain": [
       "=========================================================================================================\n",
       "Layer (type:depth-idx)                                  Output Shape              Param #\n",
       "=========================================================================================================\n",
       "AutoEncoder                                             [1, 1, 32, 32]            --\n",
       "├─Sequential: 1-1                                       [1, 256, 4, 4]            --\n",
       "│    └─Sequential: 2-1                                  [1, 32, 32, 32]           9,706\n",
       "│    └─MaxPool2d: 2-2                                   [1, 32, 16, 16]           --\n",
       "│    └─Sequential: 2-3                                  [1, 64, 16, 16]           36,032\n",
       "│    └─MaxPool2d: 2-4                                   [1, 64, 8, 8]             --\n",
       "│    └─Sequential: 2-5                                  [1, 128, 8, 8]            133,504\n",
       "│    └─MaxPool2d: 2-6                                   [1, 128, 4, 4]            --\n",
       "│    └─Sequential: 2-7                                  [1, 256, 4, 4]            512,768\n",
       "├─Sequential: 1-2                                       [1, 1, 32, 32]            --\n",
       "│    └─Sequential: 2-8                                  [1, 128, 4, 4]            160,000\n",
       "│    └─Upsample: 2-9                                    [1, 128, 8, 8]            --\n",
       "│    └─Sequential: 2-10                                 [1, 64, 8, 8]             43,136\n",
       "│    └─Upsample: 2-11                                   [1, 64, 16, 16]           --\n",
       "│    └─Sequential: 2-12                                 [1, 32, 16, 16]           12,352\n",
       "│    └─Upsample: 2-13                                   [1, 32, 32, 32]           --\n",
       "│    └─Sequential: 2-14                                 [1, 1, 32, 32]            437\n",
       "│    └─Sigmoid: 2-15                                    [1, 1, 32, 32]            --\n",
       "=========================================================================================================\n",
       "Total params: 907,935\n",
       "Trainable params: 907,935\n",
       "Non-trainable params: 0\n",
       "Total mult-adds (Units.MEGABYTES): 44.84\n",
       "=========================================================================================================\n",
       "Input size (MB): 0.00\n",
       "Forward/backward pass size (MB): 9.83\n",
       "Params size (MB): 3.63\n",
       "Estimated Total Size (MB): 13.47\n",
       "========================================================================================================="
      ]
     },
     "execution_count": 43,
     "metadata": {},
     "output_type": "execute_result"
    }
   ],
   "source": [
    "class AutoEncoder(nn.Module):\n",
    "    def __init__(self, width: int, depth: int=1):\n",
    "        def block(in_channels, out_channels):\n",
    "            return nn.Sequential(\n",
    "                # nn.BatchNorm2d(in_channels),\n",
    "                DepthwiseSeparableConv2d(in_channels, out_channels, 3, padding=1),\n",
    "                nn.GELU(),\n",
    "                # nn.BatchNorm2d(out_channels),\n",
    "                DepthwiseSeparableConv2d(out_channels, out_channels, 3, padding=1),\n",
    "                nn.GELU(),\n",
    "            )\n",
    "        \n",
    "        def stack(in_channels, out_channels, n_blocks = depth):\n",
    "            return nn.Sequential(\n",
    "                *[\n",
    "                    block(in_channels, out_channels)\n",
    "                    if i == 0\n",
    "                    else block(out_channels, out_channels)\n",
    "                    for i in range(n_blocks)\n",
    "                  ]\n",
    "                )\n",
    "\n",
    "        super(AutoEncoder, self).__init__()\n",
    "        self.encoder = nn.Sequential(\n",
    "            stack(1, width),\n",
    "            nn.MaxPool2d(2),\n",
    "            stack(width, width*2),\n",
    "            nn.MaxPool2d(2),\n",
    "            stack(width*2, width*4),\n",
    "            nn.MaxPool2d(2),\n",
    "            stack(width*4, width*8),\n",
    "            \n",
    "        )\n",
    "        self.decoder = nn.Sequential(\n",
    "            stack(width*8, width*4),\n",
    "            nn.Upsample(scale_factor=2),\n",
    "            stack(width*4, width*2),\n",
    "            nn.Upsample(scale_factor=2),\n",
    "            stack(width*2, width),\n",
    "            nn.Upsample(scale_factor=2),\n",
    "            stack(width, 1),\n",
    "            nn.Sigmoid()\n",
    "        )\n",
    "        \n",
    "    #     self.encoder.apply(self.init_weights)\n",
    "    #     self.decoder.apply(self.init_weights)\n",
    "        \n",
    "    # def init_weights(self, m):\n",
    "    #     if type(m) == nn.Conv2d:\n",
    "    #         nn.init.normal_(m.weight.data, 0.0, 0.02)\n",
    "    #         m.bias.data.fill_(0.01)\n",
    "\n",
    "    def forward(self, x):\n",
    "        x = self.encoder(x)\n",
    "        x = self.decoder(x)\n",
    "\n",
    "        return x\n",
    "    \n",
    "    def loss(self, x, y):\n",
    "        return F.mse_loss(x, y)\n",
    "        \n",
    "model = AutoEncoder(width=32, depth=4).to(\"mps\")\n",
    "summary(model, (1, 1, 32, 32), device=\"mps\",depth=2)"
   ]
  },
  {
   "cell_type": "code",
   "execution_count": 44,
   "metadata": {},
   "outputs": [],
   "source": [
    "optimizer = torch.optim.AdamW(model.parameters(), lr=2e-4)\n",
    "# ema = EMA(model, beta=0.999, update_after_step=100, update_every=10)"
   ]
  },
  {
   "cell_type": "code",
   "execution_count": 45,
   "metadata": {},
   "outputs": [
    {
     "name": "stderr",
     "output_type": "stream",
     "text": [
      "Epoch 1: 100%|██████████| 469/469 [01:02<00:00,  7.47it/s, loss=0.195, test_loss=0]\n",
      "Testing: 100%|██████████| 79/79 [00:02<00:00, 29.80it/s]\n",
      "Epoch 2: 100%|██████████| 469/469 [01:03<00:00,  7.39it/s, loss=0.19, test_loss=0.195] \n",
      "Testing: 100%|██████████| 79/79 [00:02<00:00, 27.13it/s]\n",
      "Epoch 3: 100%|██████████| 469/469 [01:24<00:00,  5.53it/s, loss=0.191, test_loss=0.191]\n",
      "Testing: 100%|██████████| 79/79 [00:03<00:00, 22.29it/s]\n",
      "Epoch 4: 100%|██████████| 469/469 [01:24<00:00,  5.55it/s, loss=0.192, test_loss=0.191]\n",
      "Testing: 100%|██████████| 79/79 [00:03<00:00, 23.89it/s]\n",
      "Epoch 5: 100%|██████████| 469/469 [01:22<00:00,  5.66it/s, loss=0.191, test_loss=0.191]\n",
      "Testing: 100%|██████████| 79/79 [00:03<00:00, 23.95it/s]\n",
      "Epoch 6: 100%|██████████| 469/469 [01:22<00:00,  5.66it/s, loss=0.19, test_loss=0.191] \n",
      "Testing: 100%|██████████| 79/79 [00:03<00:00, 24.43it/s]\n",
      "Epoch 7: 100%|██████████| 469/469 [01:26<00:00,  5.45it/s, loss=0.191, test_loss=0.191]\n",
      "Testing: 100%|██████████| 79/79 [00:03<00:00, 24.11it/s]\n",
      "Epoch 8: 100%|██████████| 469/469 [01:24<00:00,  5.58it/s, loss=0.191, test_loss=0.191]\n",
      "Testing: 100%|██████████| 79/79 [00:03<00:00, 23.84it/s]\n",
      "Epoch 9: 100%|██████████| 469/469 [01:23<00:00,  5.62it/s, loss=0.19, test_loss=0.191] \n",
      "Testing: 100%|██████████| 79/79 [00:03<00:00, 23.12it/s]\n",
      "Epoch 10: 100%|██████████| 469/469 [01:24<00:00,  5.55it/s, loss=0.192, test_loss=0.191]\n",
      "Testing: 100%|██████████| 79/79 [00:03<00:00, 23.43it/s]\n"
     ]
    }
   ],
   "source": [
    "from tqdm import tqdm\n",
    "\n",
    "test_loss = 0\n",
    "for epoch in range(10):\n",
    "    model.train()\n",
    "    pbar = tqdm(train_loader, desc=f\"Epoch {epoch+1}\")\n",
    "    for img, _ in pbar:\n",
    "        img = img.to(\"mps\")\n",
    "        \n",
    "        output = model(img)\n",
    "        loss = model.loss(output, img)\n",
    "        optimizer.zero_grad()    \n",
    "        loss.backward()\n",
    "        optimizer.step()\n",
    "\n",
    "        # ema.update()\n",
    "        pbar.set_postfix({\"loss\": loss.item(), \"test_loss\": test_loss})\n",
    "\n",
    "    model.eval()\n",
    "    test_loss = 0\n",
    "    with torch.no_grad():\n",
    "        for img, _ in tqdm(test_loader, desc=\"Testing\", leave=True):\n",
    "            img = img.to(\"mps\")\n",
    "            output = model(img)\n",
    "            loss = model.loss(output, img)\n",
    "            test_loss += loss\n",
    "\n",
    "    test_loss /= len(test_loader)\n",
    "    test_loss = test_loss.item()"
   ]
  },
  {
   "cell_type": "code",
   "execution_count": 20,
   "metadata": {},
   "outputs": [
    {
     "data": {
      "image/jpeg": "[encoded data removed]",
      "image/png": "[encoded data removed]",
      "text/plain": [
       "<PIL.Image.Image image mode=RGB size=274x546>"
      ]
     },
     "metadata": {},
     "output_type": "display_data"
    }
   ],
   "source": [
    "@torch.no_grad()\n",
    "def plot_reconstructions(model):\n",
    "    model.eval()\n",
    "    img, _ = next(iter(test_loader))\n",
    "    img = img.to(\"mps\")\n",
    "    output = model(img)\n",
    "    display(\n",
    "        torchvision.transforms.ToPILImage()(\n",
    "            torchvision.utils.make_grid(\n",
    "                output\n",
    "            ),\n",
    "        )\n",
    "    )\n",
    "\n",
    "plot_reconstructions(model)"
   ]
  },
  {
   "cell_type": "code",
   "execution_count": null,
   "metadata": {},
   "outputs": [],
   "source": [
    "from collections import Counter\n",
    "\n",
    "@torch.no_grad()\n",
    "def codebook_usage(model, loader):\n",
    "    model.eval()\n",
    "    counter = Counter()\n",
    "    for img, _ in tqdm(loader, desc=\"Calculating codebook usage\"):\n",
    "        img = img.to(\"mps\")\n",
    "        output = model(img)\n",
    "        idxs = output[4]\n",
    "        counter.update(idxs.cpu().numpy().flatten())\n",
    "    return counter\n",
    "\n",
    "# plot codebook usage\n",
    "usasge = codebook_usage(model, test_loader)\n",
    "plt.figure(figsize=(20, 5))\n",
    "plt.imshow(\n",
    "    torch.tensor([usasge[i] for i in range(512)]).reshape(16, 32).numpy(),\n",
    "    cmap=\"hot\",\n",
    ")\n",
    "plt.colorbar()\n",
    "plt.show()"
   ]
  },
  {
   "cell_type": "code",
   "execution_count": null,
   "metadata": {},
   "outputs": [],
   "source": [
    "print(len(usasge))"
   ]
  },
  {
   "cell_type": "code",
   "execution_count": null,
   "metadata": {},
   "outputs": [],
   "source": []
  }
 ],
 "metadata": {
  "kernelspec": {
   "display_name": ".venv",
   "language": "python",
   "name": "python3"
  },
  "language_info": {
   "codemirror_mode": {
    "name": "ipython",
    "version": 3
   },
   "file_extension": ".py",
   "mimetype": "text/x-python",
   "name": "python",
   "nbconvert_exporter": "python",
   "pygments_lexer": "ipython3",
   "version": "3.12.3"
  }
 },
 "nbformat": 4,
 "nbformat_minor": 2
}

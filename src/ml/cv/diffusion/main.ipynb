{
 "cells": [
  {
   "cell_type": "code",
   "execution_count": 1,
   "metadata": {},
   "outputs": [],
   "source": [
    "import torch\n",
    "from torch import nn\n",
    "from torch.nn import functional as F\n",
    "import torchvision\n",
    "import diffusers\n",
    "from tqdm import tqdm\n",
    "from nn_zoo.datamodules import MNISTDataModule"
   ]
  },
  {
   "cell_type": "code",
   "execution_count": 2,
   "metadata": {},
   "outputs": [],
   "source": [
    "dm = MNISTDataModule(\n",
    "    data_dir=\"data\",\n",
    "    dataset_params={\n",
    "        \"download\": True,\n",
    "        \"transform\": torchvision.transforms.Compose(\n",
    "            [\n",
    "                torchvision.transforms.Resize((32, 32)),\n",
    "                torchvision.transforms.ToTensor(),\n",
    "            ]\n",
    "        ),\n",
    "    },\n",
    "    loader_params={\n",
    "        \"batch_size\": 64,\n",
    "        \"num_workers\": 2,\n",
    "    },\n",
    ")\n",
    "dm.prepare_data()\n",
    "dm.setup()\n",
    "train_loader = dm.train_dataloader()\n",
    "test_loader = dm.test_dataloader()"
   ]
  },
  {
   "cell_type": "code",
   "execution_count": 28,
   "metadata": {},
   "outputs": [
    {
     "name": "stdout",
     "output_type": "stream",
     "text": [
      "torch.Size([1, 1, 32, 32])\n"
     ]
    }
   ],
   "source": [
    "def down_block(in_channels, out_channels):\n",
    "    return nn.Sequential(\n",
    "        nn.Conv2d(in_channels, out_channels, 3, padding=1),\n",
    "        nn.BatchNorm2d(out_channels),\n",
    "        nn.ReLU(),\n",
    "        nn.Conv2d(out_channels, out_channels, 3, padding=1),\n",
    "        nn.BatchNorm2d(out_channels),\n",
    "        nn.ReLU(),\n",
    "        nn.MaxPool2d(2),\n",
    "    )\n",
    "def up_block(in_channels, out_channels):\n",
    "    return nn.Sequential(\n",
    "        nn.Conv2d(in_channels, out_channels, 3, padding=1),\n",
    "        nn.BatchNorm2d(out_channels),\n",
    "        nn.ReLU(),\n",
    "        nn.Conv2d(out_channels, out_channels, 3, padding=1),\n",
    "        nn.BatchNorm2d(out_channels),\n",
    "        nn.ReLU(),\n",
    "        nn.Upsample(scale_factor=2),\n",
    "    )\n",
    "\n",
    "class Model(nn.Module):\n",
    "    def __init__(self):\n",
    "        super().__init__()\n",
    "        self.time_embeddings = nn.Embedding(1000, 32 * 32)\n",
    "        \n",
    "        self.down = nn.ModuleList([\n",
    "            down_block(1, 16),\n",
    "            down_block(16, 32),\n",
    "            down_block(32, 64),\n",
    "            down_block(64, 128),\n",
    "        ])\n",
    "        self.up = nn.ModuleList([\n",
    "            up_block(128, 64),\n",
    "            up_block(64, 32),\n",
    "            up_block(32, 16),\n",
    "            up_block(16, 1),\n",
    "        ])\n",
    "        \n",
    "    def forward(self, x, t):\n",
    "        if isinstance(t, int or float):\n",
    "            t = torch.tensor([t], device=x.device)\n",
    "        \n",
    "        t = self.time_embeddings(t)\n",
    "        x = x + t.view(-1, 1, 32, 32)\n",
    "        skips = [x]\n",
    "        for layer in self.down:\n",
    "            x = layer(x)\n",
    "            skips.append(x)\n",
    "        for layer, skip in zip(self.up, reversed(skips)):\n",
    "            x = layer(x + skip * (1 / (len(skips))))\n",
    "        return x\n",
    "    \n",
    "model = Model().to(\"mps\")\n",
    "optimizer = torch.optim.Adam(model.parameters(), lr=2e-4)\n",
    "print(model(torch.randn(1, 1, 32, 32, device=\"mps\"), 1).shape)"
   ]
  },
  {
   "cell_type": "code",
   "execution_count": 29,
   "metadata": {},
   "outputs": [],
   "source": [
    "ddim = diffusers.DDIMScheduler(rescale_betas_zero_snr=True, num_train_timesteps=10)"
   ]
  },
  {
   "cell_type": "code",
   "execution_count": 30,
   "metadata": {},
   "outputs": [],
   "source": [
    "x, y = next(iter(train_loader))\n",
    "x, y = x.to(\"mps\"), y.to(\"mps\")\n",
    "x, y = x[:1], y[:1]\n",
    "x, y = x.repeat(512, 1, 1, 1), y.repeat(512, 1, 1, 1)"
   ]
  },
  {
   "cell_type": "code",
   "execution_count": 31,
   "metadata": {},
   "outputs": [
    {
     "name": "stderr",
     "output_type": "stream",
     "text": [
      "100%|██████████| 1000/1000 [01:23<00:00, 11.91it/s, loss=0.945]\n"
     ]
    }
   ],
   "source": [
    "pbar = tqdm(range(1000))\n",
    "for i in pbar:\n",
    "    t = torch.randint(0, 10, (x.shape[0],), device=x.device)\n",
    "    noise = torch.randn_like(x, device=x.device)\n",
    "    \n",
    "    x_noisy = ddim.add_noise(x, noise, t)\n",
    "    \n",
    "    y_pred = model(x_noisy, t)\n",
    "    \n",
    "    loss = F.mse_loss(y_pred, noise) \n",
    "    \n",
    "    optimizer.zero_grad()\n",
    "    loss.backward()\n",
    "    optimizer.step()\n",
    "    \n",
    "    pbar.set_postfix_str(f\"loss={loss.item():.3f}\")"
   ]
  },
  {
   "cell_type": "code",
   "execution_count": null,
   "metadata": {},
   "outputs": [],
   "source": [
    "plt.hist(noise.cpu().numpy().flatten(), bins=100, alpha=0.5)\n",
    "plt.hist(y_pred.cpu().detach().numpy().flatten(), bins=100, alpha=0.5)\n",
    "plt.show()"
   ]
  },
  {
   "cell_type": "code",
   "execution_count": null,
   "metadata": {},
   "outputs": [],
   "source": [
    "@torch.no_grad()\n",
    "def generate(eta, steps, model):\n",
    "    ddim.num_inference_steps = steps\n",
    "    x = torch.randn((64, 1, 32, 32), device=\"mps\")\n",
    "    \n",
    "    for i in reversed(range(0, 1000, 1000 // steps)):\n",
    "        noise_pred = model(x, i)\n",
    "        x = ddim.step(noise_pred, i, x, eta=eta).prev_sample\n",
    "        # print(x.keys())\n",
    "        \n",
    "    return x\n",
    "\n",
    "import matplotlib.pyplot as plt\n",
    "\n",
    "grid = torchvision.utils.make_grid(generate(1, 10, model).cpu(), nrow=8)\n",
    "plt.imshow(grid.permute(1, 2, 0))\n"
   ]
  },
  {
   "cell_type": "code",
   "execution_count": null,
   "metadata": {},
   "outputs": [],
   "source": []
  }
 ],
 "metadata": {
  "kernelspec": {
   "display_name": ".venv",
   "language": "python",
   "name": "python3"
  },
  "language_info": {
   "codemirror_mode": {
    "name": "ipython",
    "version": 3
   },
   "file_extension": ".py",
   "mimetype": "text/x-python",
   "name": "python",
   "nbconvert_exporter": "python",
   "pygments_lexer": "ipython3",
   "version": "3.12.3"
  }
 },
 "nbformat": 4,
 "nbformat_minor": 2
}
